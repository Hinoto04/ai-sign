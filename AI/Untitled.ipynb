{
 "cells": [
  {
   "cell_type": "code",
   "execution_count": 1,
   "id": "1f254be7",
   "metadata": {},
   "outputs": [],
   "source": [
    "import numpy as np\n",
    "import os\n",
    "import PIL\n",
    "import tensorflow as tf"
   ]
  },
  {
   "cell_type": "code",
   "execution_count": 2,
   "id": "1b68fd89",
   "metadata": {},
   "outputs": [
    {
     "name": "stdout",
     "output_type": "stream",
     "text": [
      "2.6.0\n"
     ]
    }
   ],
   "source": [
    "print(tf.__version__)"
   ]
  },
  {
   "cell_type": "code",
   "execution_count": 3,
   "id": "d0fb830c",
   "metadata": {},
   "outputs": [],
   "source": [
    "base_dir = \"../data.copy/\""
   ]
  },
  {
   "cell_type": "code",
   "execution_count": 4,
   "id": "bf3600b1",
   "metadata": {},
   "outputs": [],
   "source": [
    "from keras.preprocessing import image"
   ]
  },
  {
   "cell_type": "code",
   "execution_count": 5,
   "id": "8fe45972",
   "metadata": {},
   "outputs": [],
   "source": [
    "img_tensor = []\n",
    "img_label = []"
   ]
  },
  {
   "cell_type": "code",
   "execution_count": 6,
   "id": "2f618751",
   "metadata": {},
   "outputs": [],
   "source": [
    "class_names = ['박진성', '서정범', '이가휴', '이동현', '이흥교', '정정윤2', '조혁진']"
   ]
  },
  {
   "cell_type": "code",
   "execution_count": 7,
   "id": "558c7e0c",
   "metadata": {},
   "outputs": [],
   "source": [
    "for userfold in os.listdir(base_dir):\n",
    "    for imgname in os.listdir(base_dir+userfold+'/true'):\n",
    "        img = image.load_img(\n",
    "            base_dir + userfold + '/true' + '/' + imgname, \n",
    "            color_mode='grayscale', \n",
    "            target_size=(60, 120), \n",
    "            interpolation='nearest')\n",
    "        img_tensor.append(image.img_to_array(img)/255)\n",
    "        img_label.append(class_names.index(userfold))"
   ]
  },
  {
   "cell_type": "code",
   "execution_count": 8,
   "id": "2f393df1",
   "metadata": {},
   "outputs": [],
   "source": [
    "img_tensor_np = np.array(img_tensor)\n",
    "img_label_np = np.array(img_label)"
   ]
  },
  {
   "cell_type": "code",
   "execution_count": 9,
   "id": "1045ba5f",
   "metadata": {},
   "outputs": [
    {
     "data": {
      "text/plain": [
       "(77, 60, 120, 1)"
      ]
     },
     "execution_count": 9,
     "metadata": {},
     "output_type": "execute_result"
    }
   ],
   "source": [
    "img_tensor_np.shape"
   ]
  },
  {
   "cell_type": "code",
   "execution_count": 10,
   "metadata": {},
   "outputs": [],
   "source": [
    "from sklearn.model_selection import train_test_split"
   ]
  },
  {
   "cell_type": "code",
   "execution_count": 11,
   "metadata": {},
   "outputs": [],
   "source": [
    "x_train, x_test, y_train, y_test = train_test_split(img_tensor_np, img_label_np, test_size=0.2, random_state=10)"
   ]
  },
  {
   "cell_type": "code",
   "execution_count": 12,
   "id": "a62bfed5",
   "metadata": {},
   "outputs": [
    {
     "data": {
      "image/png": "[encoded data removed]",
      "text/plain": [
       "<Figure size 432x216 with 1 Axes>"
      ]
     },
     "metadata": {
      "needs_background": "light"
     },
     "output_type": "display_data"
    }
   ],
   "source": [
    "import matplotlib.pyplot as plt\n",
    "plt.rcParams['figure.figsize'] = (6, 3)\n",
    "\n",
    "plt.imshow(img_tensor_np[0], cmap='gray')\n",
    "plt.show()"
   ]
  },
  {
   "cell_type": "code",
   "execution_count": 13,
   "metadata": {},
   "outputs": [],
   "source": [
    "model = tf.keras.models.Sequential()\n",
    "model.add(tf.keras.layers.Conv2D(16, kernel_size=3, activation='relu', input_shape=(60, 120, 1)))\n",
    "model.add(tf.keras.layers.MaxPooling2D())\n",
    "model.add(tf.keras.layers.Conv2D(32, kernel_size=3, padding='same', activation='relu'))\n",
    "model.add(tf.keras.layers.MaxPooling2D())\n",
    "model.add(tf.keras.layers.Conv2D(64, kernel_size=3, padding='same', activation='relu'))\n",
    "model.add(tf.keras.layers.MaxPooling2D())\n",
    "model.add(tf.keras.layers.Flatten())\n",
    "model.add(tf.keras.layers.Dense(64, activation='relu'))\n",
    "model.add(tf.keras.layers.Dense(len(class_names), activation='softmax'))\n"
   ]
  },
  {
   "cell_type": "code",
   "execution_count": 14,
   "metadata": {},
   "outputs": [
    {
     "name": "stdout",
     "output_type": "stream",
     "text": [
      "Model: \"sequential\"\n",
      "_________________________________________________________________\n",
      "Layer (type)                 Output Shape              Param #   \n",
      "=================================================================\n",
      "conv2d (Conv2D)              (None, 58, 118, 16)       160       \n",
      "_________________________________________________________________\n",
      "max_pooling2d (MaxPooling2D) (None, 29, 59, 16)        0         \n",
      "_________________________________________________________________\n",
      "conv2d_1 (Conv2D)            (None, 29, 59, 32)        4640      \n",
      "_________________________________________________________________\n",
      "max_pooling2d_1 (MaxPooling2 (None, 14, 29, 32)        0         \n",
      "_________________________________________________________________\n",
      "conv2d_2 (Conv2D)            (None, 14, 29, 64)        18496     \n",
      "_________________________________________________________________\n",
      "max_pooling2d_2 (MaxPooling2 (None, 7, 14, 64)         0         \n",
      "_________________________________________________________________\n",
      "flatten (Flatten)            (None, 6272)              0         \n",
      "_________________________________________________________________\n",
      "dense (Dense)                (None, 64)                401472    \n",
      "_________________________________________________________________\n",
      "dense_1 (Dense)              (None, 7)                 455       \n",
      "=================================================================\n",
      "Total params: 425,223\n",
      "Trainable params: 425,223\n",
      "Non-trainable params: 0\n",
      "_________________________________________________________________\n"
     ]
    }
   ],
   "source": [
    "model.summary()"
   ]
  },
  {
   "cell_type": "code",
   "execution_count": 15,
   "metadata": {},
   "outputs": [],
   "source": [
    "model.compile(optimizer='adam',\n",
    "            loss=tf.keras.losses.SparseCategoricalCrossentropy(from_logits=True),\n",
    "            metrics=['accuracy'])"
   ]
  },
  {
   "cell_type": "code",
   "execution_count": 16,
   "metadata": {},
   "outputs": [
    {
     "data": {
      "text/plain": [
       "(61, 60, 120, 1)"
      ]
     },
     "execution_count": 16,
     "metadata": {},
     "output_type": "execute_result"
    }
   ],
   "source": [
    "x_train.shape"
   ]
  },
  {
   "cell_type": "code",
   "execution_count": 17,
   "metadata": {},
   "outputs": [],
   "source": [
    "epochs = 20"
   ]
  },
  {
   "cell_type": "code",
   "execution_count": 18,
   "metadata": {},
   "outputs": [
    {
     "name": "stdout",
     "output_type": "stream",
     "text": [
      "Epoch 1/20\n"
     ]
    },
    {
     "name": "stderr",
     "output_type": "stream",
     "text": [
      "C:\\Python\\Python39\\lib\\site-packages\\keras\\backend.py:4906: UserWarning: \"`sparse_categorical_crossentropy` received `from_logits=True`, but the `output` argument was produced by a sigmoid or softmax activation and thus does not represent logits. Was this intended?\"\n",
      "  warnings.warn(\n"
     ]
    },
    {
     "name": "stdout",
     "output_type": "stream",
     "text": [
      "21/21 [==============================] - 0s 8ms/step - loss: 1.9906 - accuracy: 0.0656\n",
      "Epoch 2/20\n",
      "21/21 [==============================] - 0s 8ms/step - loss: 1.9467 - accuracy: 0.1148\n",
      "Epoch 3/20\n",
      "21/21 [==============================] - 0s 8ms/step - loss: 1.7731 - accuracy: 0.3934\n",
      "Epoch 4/20\n",
      "21/21 [==============================] - 0s 8ms/step - loss: 0.7385 - accuracy: 0.7377\n",
      "Epoch 5/20\n",
      "21/21 [==============================] - 0s 8ms/step - loss: 0.1985 - accuracy: 0.9508\n",
      "Epoch 6/20\n",
      "21/21 [==============================] - 0s 8ms/step - loss: 0.1771 - accuracy: 0.9344\n",
      "Epoch 7/20\n",
      "21/21 [==============================] - 0s 8ms/step - loss: 0.0324 - accuracy: 1.0000\n",
      "Epoch 8/20\n",
      "21/21 [==============================] - 0s 8ms/step - loss: 0.0062 - accuracy: 1.0000\n",
      "Epoch 9/20\n",
      "21/21 [==============================] - 0s 8ms/step - loss: 0.0022 - accuracy: 1.0000\n",
      "Epoch 10/20\n",
      "21/21 [==============================] - 0s 8ms/step - loss: 8.4348e-04 - accuracy: 1.0000\n",
      "Epoch 11/20\n",
      "21/21 [==============================] - 0s 8ms/step - loss: 6.1833e-04 - accuracy: 1.0000\n",
      "Epoch 12/20\n",
      "21/21 [==============================] - 0s 8ms/step - loss: 4.7339e-04 - accuracy: 1.0000\n",
      "Epoch 13/20\n",
      "21/21 [==============================] - 0s 8ms/step - loss: 4.2410e-04 - accuracy: 1.0000\n",
      "Epoch 14/20\n",
      "21/21 [==============================] - 0s 8ms/step - loss: 3.6909e-04 - accuracy: 1.0000\n",
      "Epoch 15/20\n",
      "21/21 [==============================] - 0s 8ms/step - loss: 2.9888e-04 - accuracy: 1.0000\n",
      "Epoch 16/20\n",
      "21/21 [==============================] - 0s 8ms/step - loss: 2.8112e-04 - accuracy: 1.0000\n",
      "Epoch 17/20\n",
      "21/21 [==============================] - 0s 8ms/step - loss: 2.4446e-04 - accuracy: 1.0000\n",
      "Epoch 18/20\n",
      "21/21 [==============================] - 0s 8ms/step - loss: 2.2334e-04 - accuracy: 1.0000\n",
      "Epoch 19/20\n",
      "21/21 [==============================] - 0s 8ms/step - loss: 2.1850e-04 - accuracy: 1.0000\n",
      "Epoch 20/20\n",
      "21/21 [==============================] - 0s 8ms/step - loss: 1.8956e-04 - accuracy: 1.0000\n"
     ]
    }
   ],
   "source": [
    "history = model.fit(\n",
    "    x_train,\n",
    "    y_train,\n",
    "    epochs=epochs,\n",
    "    batch_size=3\n",
    ")"
   ]
  },
  {
   "cell_type": "code",
   "execution_count": 23,
   "metadata": {},
   "outputs": [
    {
     "data": {
      "image/png": "[encoded data removed]",
      "text/plain": [
       "<Figure size 576x576 with 2 Axes>"
      ]
     },
     "metadata": {
      "needs_background": "light"
     },
     "output_type": "display_data"
    }
   ],
   "source": [
    "acc = history.history['accuracy']\n",
    "\n",
    "loss=history.history['loss']\n",
    "\n",
    "epochs_range = range(epochs)\n",
    "\n",
    "plt.figure(figsize=(8, 8))\n",
    "plt.subplot(1, 2, 1)\n",
    "plt.plot(epochs_range, acc, label='Training Accuracy')\n",
    "plt.legend(loc='lower right')\n",
    "plt.title('Training and Validation Accuracy')\n",
    "\n",
    "plt.subplot(1, 2, 2)\n",
    "plt.plot(epochs_range, loss, label='Training Loss')\n",
    "plt.legend(loc='upper right')\n",
    "plt.title('Training and Validation Loss')\n",
    "plt.show()"
   ]
  },
  {
   "cell_type": "code",
   "execution_count": 24,
   "metadata": {},
   "outputs": [
    {
     "name": "stdout",
     "output_type": "stream",
     "text": [
      "This image most likely belongs to 정정윤2 with a 31.18 percent confidence.\n"
     ]
    }
   ],
   "source": [
    "predictions = model.predict(x_test)\n",
    "score = tf.nn.softmax(predictions[0])\n",
    "\n",
    "print(\n",
    "    \"This image most likely belongs to {} with a {:.2f} percent confidence.\"\n",
    "    .format(class_names[np.argmax(score)], 100 * np.max(score))\n",
    ")"
   ]
  },
  {
   "cell_type": "code",
   "execution_count": 25,
   "metadata": {},
   "outputs": [
    {
     "name": "stdout",
     "output_type": "stream",
     "text": [
      "1/1 [==============================] - 0s 17ms/step - loss: 0.5377 - accuracy: 0.9375\n"
     ]
    },
    {
     "data": {
      "text/plain": [
       "[0.5376543998718262, 0.9375]"
      ]
     },
     "execution_count": 25,
     "metadata": {},
     "output_type": "execute_result"
    }
   ],
   "source": [
    "model.evaluate(x_test, y_test)"
   ]
  },
  {
   "cell_type": "code",
   "execution_count": 22,
   "metadata": {},
   "outputs": [
    {
     "data": {
      "text/plain": [
       "<tf.Tensor: shape=(7,), dtype=float32, numpy=\n",
       "array([0.11470152, 0.11470152, 0.11470152, 0.11470152, 0.11470161,\n",
       "       0.3117908 , 0.11470152], dtype=float32)>"
      ]
     },
     "execution_count": 22,
     "metadata": {},
     "output_type": "execute_result"
    }
   ],
   "source": [
    "score"
   ]
  }
 ],
 "metadata": {
  "interpreter": {
   "hash": "ee5cc6fef2d70a7e71ee3826687cbd150f18158e0b1eef11d4f4f92bb920e304"
  },
  "kernelspec": {
   "display_name": "Python 3.9.5 64-bit",
   "name": "python3"
  },
  "language_info": {
   "codemirror_mode": {
    "name": "ipython",
    "version": 3
   },
   "file_extension": ".py",
   "mimetype": "text/x-python",
   "name": "python",
   "nbconvert_exporter": "python",
   "pygments_lexer": "ipython3",
   "version": "3.9.5"
  }
 },
 "nbformat": 4,
 "nbformat_minor": 5
}
